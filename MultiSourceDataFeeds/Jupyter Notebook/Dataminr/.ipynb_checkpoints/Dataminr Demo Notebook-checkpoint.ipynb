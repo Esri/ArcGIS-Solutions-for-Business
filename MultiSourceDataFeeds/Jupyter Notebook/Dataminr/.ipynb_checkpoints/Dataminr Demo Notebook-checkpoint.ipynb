{
 "cells": [
  {
   "cell_type": "markdown",
   "metadata": {},
   "source": [
    "## Requesting token payload from our Dataminr Client ID"
   ]
  },
  {
   "cell_type": "code",
   "execution_count": 1,
   "metadata": {},
   "outputs": [
    {
     "data": {
      "text/plain": [
       "'{\"dmaToken\":\"66831e3096a540cba8f01c78c7ed8aa4\",\"refreshToken\":\"3c2fa56104df4f788445b4796e859150\",\"expire\":1553998307425}'"
      ]
     },
     "execution_count": 1,
     "metadata": {},
     "output_type": "execute_result"
    }
   ],
   "source": [
    "import requests\n",
    "\n",
    "#Requesting dmaToken with our token\n",
    "grant_type = 'api_key'\n",
    "client_id = '16e7e3e124a04ce3b0488ccf7d07adb8'\n",
    "client_secret = 'fb58ea24d0404d48873e5eed9b83b31d'\n",
    "myUrl = 'https://gateway.dataminr.com/auth/2/token'\n",
    "payload = {'grant_type': grant_type, 'client_id': client_id, 'client_secret': client_secret}\n",
    "r = requests.post(myUrl, data=payload)\n",
    "r.text"
   ]
  },
  {
   "cell_type": "markdown",
   "metadata": {},
   "source": [
    "## Convert the request string to a Dictionary using the json library\n",
    "\n",
    "The initial call is returned as a string.  We need to convert it to an object so we can pull out the token component\n",
    "\n",
    "https://www.w3schools.com/js/js_json_objects.asp\n",
    "\n"
   ]
  },
  {
   "cell_type": "code",
   "execution_count": 2,
   "metadata": {},
   "outputs": [
    {
     "data": {
      "text/plain": [
       "{'dmaToken': '66831e3096a540cba8f01c78c7ed8aa4',\n",
       " 'refreshToken': '3c2fa56104df4f788445b4796e859150',\n",
       " 'expire': 1553998307425}"
      ]
     },
     "execution_count": 2,
     "metadata": {},
     "output_type": "execute_result"
    }
   ],
   "source": [
    "import json\n",
    "tokenDetails = json.loads(r.text)\n",
    "tokenDetails"
   ]
  },
  {
   "cell_type": "markdown",
   "metadata": {},
   "source": [
    "## Return the dmaToken to be used for retrieving data"
   ]
  },
  {
   "cell_type": "code",
   "execution_count": 3,
   "metadata": {},
   "outputs": [],
   "source": [
    "token = tokenDetails[\"dmaToken\"]"
   ]
  },
  {
   "cell_type": "markdown",
   "metadata": {},
   "source": [
    "## Next, let's pull in our lists that we created in the Dataminr Dashboard.\n",
    "\n",
    "##### We will run a GET request to obtain our lists and convert our dictionary object to view the lists in our account"
   ]
  },
  {
   "cell_type": "code",
   "execution_count": 6,
   "metadata": {
    "scrolled": false
   },
   "outputs": [
    {
     "data": {
      "text/plain": [
       "[{'name': 'Topics',\n",
       "  'value': [{'id': 'topics-topEvents',\n",
       "    'name': 'Top Events',\n",
       "    'description': 'Your Flash, Urgent, and Momentum notifications'},\n",
       "   {'id': 'topics-alerts',\n",
       "    'name': 'Alerts',\n",
       "    'description': 'Your Alert notifications'},\n",
       "   {'id': 'topics-all',\n",
       "    'name': 'Top Events + Alerts',\n",
       "    'description': 'All of your notifications'}]},\n",
       " {'name': 'Custom Lists',\n",
       "  'value': [{'id': 'custom-698815',\n",
       "    'name': 'Crime',\n",
       "    'properties': {'watchlistColor': 'darkblue'},\n",
       "    'description': '',\n",
       "    'numericId': '698815',\n",
       "    'type': 'CUSTOM'},\n",
       "   {'id': 'custom-707590',\n",
       "    'name': 'Disease',\n",
       "    'properties': {'watchlistColor': 'purple'},\n",
       "    'description': '',\n",
       "    'numericId': '707590',\n",
       "    'type': 'CUSTOM'},\n",
       "   {'id': 'custom-707509',\n",
       "    'name': 'Terrorism',\n",
       "    'properties': {'watchlistColor': 'red'},\n",
       "    'description': '',\n",
       "    'numericId': '707509',\n",
       "    'type': 'CUSTOM'},\n",
       "   {'id': 'custom-720349',\n",
       "    'name': 'trump',\n",
       "    'properties': {'watchlistColor': 'darkblue'},\n",
       "    'description': '',\n",
       "    'numericId': '720349',\n",
       "    'type': 'CUSTOM'}]}]"
      ]
     },
     "execution_count": 6,
     "metadata": {},
     "output_type": "execute_result"
    }
   ],
   "source": [
    "list_url = 'https://gateway.dataminr.com/account/1/get_lists'\n",
    "payload = {'Authorization': 'dmauth {}'.format(token)}\n",
    "r_lists = requests.get(list_url, headers=payload)\n",
    "myLists = json.loads(r_lists.text)\n",
    "myLists['watchlists']"
   ]
  },
  {
   "cell_type": "markdown",
   "metadata": {},
   "source": [
    "## Let's refine this further and get the names and id associated with each list item"
   ]
  },
  {
   "cell_type": "code",
   "execution_count": 7,
   "metadata": {},
   "outputs": [
    {
     "data": {
      "text/plain": [
       "{'Top Events': 'topics-topEvents',\n",
       " 'Alerts': 'topics-alerts',\n",
       " 'Top Events + Alerts': 'topics-all',\n",
       " 'Crime': 'custom-698815',\n",
       " 'Disease': 'custom-707590',\n",
       " 'Terrorism': 'custom-707509',\n",
       " 'trump': 'custom-720349'}"
      ]
     },
     "execution_count": 7,
     "metadata": {},
     "output_type": "execute_result"
    }
   ],
   "source": [
    "lists_dict = dict() # Dictionary to store all list names\n",
    "\n",
    "Topic_Lists = myLists['watchlists'][0]['value']\n",
    "Custom_Lists = myLists['watchlists'][1]['value']\n",
    "\n",
    "for item in Topic_Lists:\n",
    "    lists_dict[item['name']] = item['id']\n",
    "\n",
    "for item in Custom_Lists:\n",
    "    lists_dict[item['name']] = item['id']\n",
    "\n",
    "lists_dict"
   ]
  },
  {
   "cell_type": "markdown",
   "metadata": {},
   "source": [
    "## Let's extract the ID for the custom list we created\n",
    "\n",
    "Specify a List name for the varaible, list_pick"
   ]
  },
  {
   "cell_type": "code",
   "execution_count": 8,
   "metadata": {},
   "outputs": [
    {
     "name": "stdout",
     "output_type": "stream",
     "text": [
      "The trump list ID is custom-720349\n"
     ]
    }
   ],
   "source": [
    "# We will pull out the list id from from our dictionary object based on the list name\n",
    "list_pick = 'trump'\n",
    "\n",
    "list_id = lists_dict[list_pick]\n",
    "\n",
    "print(\"The {} list ID is {}\".format(list_pick, list_id))"
   ]
  },
  {
   "cell_type": "markdown",
   "metadata": {},
   "source": [
    "## Since we have identified the list ID, lets retrieve items from it\n",
    "\n",
    "#### We will run a GET request to obtain all the alerts that have been captured in our list. Again, using the JSON library, we will convert them into a structure that is more manageable."
   ]
  },
  {
   "cell_type": "code",
   "execution_count": 9,
   "metadata": {},
   "outputs": [],
   "source": [
    "list_url = 'https://gateway.dataminr.com/alerts/2/get_alert?alertversion=14'\n",
    "payload = {'Authorization': 'dmauth {}'.format(token)}\n",
    "r_lists = requests.get(list_url, params={'lists': list_id, 'pagesize': '100'}, headers=payload)\n",
    "EventsList = json.loads(r_lists.text)"
   ]
  },
  {
   "cell_type": "markdown",
   "metadata": {},
   "source": [
    "#### Let's take a look at the first item in the list"
   ]
  },
  {
   "cell_type": "code",
   "execution_count": 10,
   "metadata": {},
   "outputs": [
    {
     "data": {
      "text/plain": [
       "{'alertId': '49560113-1553982747424-5',\n",
       " 'watchlistsMatchedByType': [{'id': '720349',\n",
       "   'type': 'custom',\n",
       "   'name': 'custom-720349',\n",
       "   'userProperties': {}}],\n",
       " 'availableRelatedAlerts': 0,\n",
       " 'eventTime': 1553982747424,\n",
       " 'eventVolume': 1,\n",
       " 'eventLocation': {'coordinates': [41.802406, -72.84307],\n",
       "  'name': 'Connecticut, United States',\n",
       "  'places': ['f66b10a1b6d5d260b3ddb7e7518aa5ac',\n",
       "   '797e60271f5286192028fa840ef684d4',\n",
       "   '631c82365272bffd097676e62e70ce4e',\n",
       "   '0a269a52d33a19cd680c4d33aef9a4af',\n",
       "   '2f7245ea29c7d5a90bfd48512f971ef0'],\n",
       "  'probability': 0.7942275791327447,\n",
       "  'radius': 4.985339209886423},\n",
       " 'source': {'displayName': 'Avon_CT_RTC',\n",
       "  'entityName': 'Avon_CT_RTC',\n",
       "  'channels': ['chatter']},\n",
       " 'post': {'timestamp': 1553982747424,\n",
       "  'text': 'Great event happening in West Hartford Thursday night.  Keynote Speaker is Justin Clark, former Director of Public Liaison and Director of Intergovernmental Affairs under President Trump and currently Senior... https://t.co/Zxy4WVqpVX',\n",
       "  'languages': [{'position': 0, 'lang': 'en'}],\n",
       "  'media': [{'type': 'link',\n",
       "    'url': 'https://t.co/Zxy4WVqpVX',\n",
       "    'display_url': 'facebook.com/avon.ct.rtc/po…',\n",
       "    'sizes': {},\n",
       "    'extraData': {'expanded_url': 'https://www.facebook.com/avon.ct.rtc/posts/2517075901655237'}}],\n",
       "  'link': 'https://twitter.com/Avon_CT_RTC/status/1112110363909242881'},\n",
       " 'categories': [],\n",
       " 'headerColor': 'FFFFAD',\n",
       " 'publisherCategory': {'id': 'chatter',\n",
       "  'name': 'Chatter',\n",
       "  'color': 'A24512',\n",
       "  'shortName': 'CTR'},\n",
       " 'eventMapSmallURL': 'http://api.dataminr.com/images/1/map?size=124x124&center=41.802406,-72.84307&zoom=9&markers=color:yellow%7Csize:small%7C41.802406,-72.84307&key=kh0qvJ4wltQL-LPESkURRYIaE_P6qwD33dBL95Jc&signature=GDJZbb__wI654ojXeIflUALy9jg=',\n",
       " 'eventMapLargeURL': 'http://api.dataminr.com/images/1/map?size=540x124&center=41.802406,-72.84307&zoom=9&markers=color:yellow%7Csize:small%7C41.802406,-72.84307&key=kh0qvJ4wltQL-LPESkURRYIaE_P6qwD33dBL95Jc&signature=Z7xIve32yVpLlx1wM0GknX9V4MQ=',\n",
       " 'expandAlertURL': 'https://app.dataminr.com/#alertDetail/5/49560113-1553982747424-5',\n",
       " 'expandMapURL': 'https://app.dataminr.com/#map-popup2/{\"search\":{\"date\":{\"start\":1553982297424,\"end\":1553983197424,\"isRealtime\":false},\"geo\":{\"bounds\":{\"north\":42.802406,\"east\":-71.84307,\"south\":40.802406,\"west\":-73.84307},\"center\":{\"lat\":41.802406,\"lng\":-72.84307},\"zoom\":10}},\"map\":{\"mapType\":\"ROADMAP\",\"shouldAskDefaultLocation\":false,\"visited\":[]}}',\n",
       " 'relatedTerms': [{'text': 'intergovernmental',\n",
       "   'url': 'https://app.dataminr.com/app/core/corporate/search-popup.html#search/%7B%22history%22%3A%5B%7B%22displayTitle%22%3A%22intergovernmental%22%2C%22elements%22%3A%5B%7B%22topicName%22%3A%22intergovernmental%22%2C%22type%22%3A%22string%22%2C%22topicId%22%3A-1%2C%22equitySymbol%22%3A%22%22%7D%5D%2C%22target%22%3A%22searchinput%22%2C%22type%22%3A%22complex%22%2C%22isEquity%22%3Afalse%2C%22topicId%22%3A-1%2C%22text%22%3A%22%22%7D%5D%7D/location/%7B%22center%22%3A%7B%22lat%22%3A14.43468021529728%2C%22lng%22%3A-65.91796875%2C%22zoom%22%3A2%7D%2C%22zoom%22%3A2%2C%22extent%22%3A%7B%22north%22%3A73.42842364106818%2C%22east%22%3A48.1640625%2C%22south%22%3A-62.91523303947613%2C%22west%22%3A-179.6484375%7D%7D'},\n",
       "  {'text': 'liaison',\n",
       "   'url': 'https://app.dataminr.com/app/core/corporate/search-popup.html#search/%7B%22history%22%3A%5B%7B%22displayTitle%22%3A%22liaison%22%2C%22elements%22%3A%5B%7B%22topicName%22%3A%22liaison%22%2C%22type%22%3A%22string%22%2C%22topicId%22%3A-1%2C%22equitySymbol%22%3A%22%22%7D%5D%2C%22target%22%3A%22searchinput%22%2C%22type%22%3A%22complex%22%2C%22isEquity%22%3Afalse%2C%22topicId%22%3A-1%2C%22text%22%3A%22%22%7D%5D%7D/location/%7B%22center%22%3A%7B%22lat%22%3A14.43468021529728%2C%22lng%22%3A-65.91796875%2C%22zoom%22%3A2%7D%2C%22zoom%22%3A2%2C%22extent%22%3A%7B%22north%22%3A73.42842364106818%2C%22east%22%3A48.1640625%2C%22south%22%3A-62.91523303947613%2C%22west%22%3A-179.6484375%7D%7D'}],\n",
       " 'relatedTermsQueryURL': 'https://app.dataminr.com/#search-popup/search/%7B%22history%22%3A%5B%7B%22displayTitle%22%3A%22intergovernmental,liaison%22%2C%22elements%22%3A%5B%7B%22topicName%22%3A%22intergovernmental,liaison%22%2C%22type%22%3A%22string%22%2C%22topicId%22%3A-1%2C%22equitySymbol%22%3A%22%22%7D%5D%2C%22target%22%3A%22searchinput%22%2C%22type%22%3A%22complex%22%2C%22isEquity%22%3Afalse%2C%22topicId%22%3A-1%2C%22text%22%3A%22%22%7D%5D%7D/location/%7B%22center%22%3A%7B%22lat%22%3A14.43468021529728%2C%22lng%22%3A-65.91796875%2C%22zoom%22%3A2%7D%2C%22zoom%22%3A2%2C%22extent%22%3A%7B%22north%22%3A73.42842364106818%2C%22east%22%3A48.1640625%2C%22south%22%3A-62.91523303947613%2C%22west%22%3A-179.6484375%7D%7D',\n",
       " 'userRecentImages': [],\n",
       " 'userTopHashtags': []}"
      ]
     },
     "execution_count": 10,
     "metadata": {},
     "output_type": "execute_result"
    }
   ],
   "source": [
    "EventsList[0]"
   ]
  },
  {
   "cell_type": "markdown",
   "metadata": {},
   "source": [
    "## How many items are in our feed?"
   ]
  },
  {
   "cell_type": "code",
   "execution_count": 19,
   "metadata": {},
   "outputs": [
    {
     "name": "stdout",
     "output_type": "stream",
     "text": [
      "There are 100 items in our list\n"
     ]
    }
   ],
   "source": [
    "print(\"There are {} items in our list\".format(len(EventsList)))"
   ]
  },
  {
   "cell_type": "markdown",
   "metadata": {},
   "source": [
    "### Let's try pulling alerts based on a keyword query"
   ]
  },
  {
   "cell_type": "code",
   "execution_count": 11,
   "metadata": {},
   "outputs": [
    {
     "name": "stdout",
     "output_type": "stream",
     "text": [
      "There are 3 items in our list. \n",
      "\n",
      "Here is the first result:\n"
     ]
    },
    {
     "data": {
      "text/plain": [
       "{'alertId': '1062097155-1553961240000-3',\n",
       " 'availableRelatedAlerts': 0,\n",
       " 'eventTime': 1553961300000,\n",
       " 'eventVolume': 1,\n",
       " 'eventLocation': {'coordinates': [44.5939875, -79.4236846],\n",
       "  'name': \"McDonald's, 320 Memorial Ave, Orillia, ON L3V 5X6, Canada\",\n",
       "  'places': ['a7d932a696312804b5d9f3a3fd93ffc5',\n",
       "   '1437da19de6a3aec2772b38b4bcb96eb',\n",
       "   '0a269a52d33a19cd680c4d33aef9a4af',\n",
       "   '2f7245ea29c7d5a90bfd48512f971ef0'],\n",
       "  'radius': 0.11442414542100532},\n",
       " 'source': {'displayName': 'Muskoka411',\n",
       "  'entityName': 'Muskoka411',\n",
       "  'channels': ['localnews']},\n",
       " 'post': {'timestamp': 1553961240000,\n",
       "  'text': 'No injuries after a vehicle fire at the McDonalds parking lot on Hwy 12 in  Orillia  @OrilliaFire #OrilliaOPP https://t.co/kTNJBIP78t',\n",
       "  'languages': [{'position': 0, 'lang': 'en'}],\n",
       "  'media': [{'type': 'photo',\n",
       "    'url': 'http://pbs.twimg.com/media/D26wcZdWsAAKENd.jpg',\n",
       "    'description': 'https://twitter.com/Muskoka411/status/1112020305470472192/photo/1',\n",
       "    'display_url': 'pic.twitter.com/kTNJBIP78t',\n",
       "    'media_url': 'http://pbs.twimg.com/media/D26wcZdWsAAKENd.jpg',\n",
       "    'source': 'twitter',\n",
       "    'extraData': {'expanded_url': 'https://twitter.com/Muskoka411/status/1112020305470472192/photo/1'}}],\n",
       "  'link': 'https://twitter.com/Muskoka411/status/1112020305470472192'},\n",
       " 'caption': \"Vehicle fire with no injuries at McDonald's on Highway 12 in Orillia, Canada: Local News Outlet Photo via Twitter.\",\n",
       " 'companies': [{'name': \"McDonald's Corporation\",\n",
       "   'topicType': 'company',\n",
       "   'id': 'ce93c4a9ef56bba5fbc32da77fd5d371',\n",
       "   'idStr': 'ce93c4a9ef56bba5fbc32da77fd5d371',\n",
       "   'ticker': 'mcd',\n",
       "   'dm_bucket': [{'id': '17a94fd429eb9f985637dca926926929',\n",
       "     'name': 'Leisure - Restaurants'}],\n",
       "   'dm_sector': [{'id': '293f3793a0532c7900d9aa1ae395792c',\n",
       "     'name': 'Restaurants & Leisure'}],\n",
       "   'locations': [{'country': 'US',\n",
       "     'city': 'Chicago',\n",
       "     'postalCode': '60607',\n",
       "     'state': {'symbol': 'IL', 'name': 'ILLINOIS'}}]}],\n",
       " 'categories': [{'name': 'Transportation - Traffic and Roadways',\n",
       "   'topicType': 'category',\n",
       "   'id': '124026',\n",
       "   'idStr': '124026',\n",
       "   'path': '/TOPIC/EXT/CS/124026'},\n",
       "  {'name': 'Disasters and Weather - Fires and Collapses',\n",
       "   'topicType': 'category',\n",
       "   'id': '124014',\n",
       "   'idStr': '124014',\n",
       "   'path': '/TOPIC/EXT/CS/124014'}],\n",
       " 'sectors': [{'name': 'Restaurants & Leisure',\n",
       "   'topicType': 'sector',\n",
       "   'id': '293f3793a0532c7900d9aa1ae395792c',\n",
       "   'idStr': '293f3793a0532c7900d9aa1ae395792c'}],\n",
       " 'alertType': {'id': 'alert', 'name': 'Alert', 'color': 'FFBB05'},\n",
       " 'publisherCategory': {'id': 'localnews',\n",
       "  'name': 'Local News',\n",
       "  'color': '2C67A4',\n",
       "  'shortName': 'LN'},\n",
       " 'relatedTerms': [{'text': 'orillia',\n",
       "   'url': 'https://app.dataminr.com/app/core/corporate/search-popup.html#search/%7B%22history%22%3A%5B%7B%22displayTitle%22%3A%22orillia%22%2C%22elements%22%3A%5B%7B%22topicName%22%3A%22orillia%22%2C%22type%22%3A%22string%22%2C%22topicId%22%3A-1%2C%22equitySymbol%22%3A%22%22%7D%5D%2C%22target%22%3A%22searchinput%22%2C%22type%22%3A%22complex%22%2C%22isEquity%22%3Afalse%2C%22topicId%22%3A-1%2C%22text%22%3A%22%22%7D%5D%7D/location/%7B%22center%22%3A%7B%22lat%22%3A14.43468021529728%2C%22lng%22%3A-65.91796875%2C%22zoom%22%3A2%7D%2C%22zoom%22%3A2%2C%22extent%22%3A%7B%22north%22%3A73.42842364106818%2C%22east%22%3A48.1640625%2C%22south%22%3A-62.91523303947613%2C%22west%22%3A-179.6484375%7D%7D'},\n",
       "  {'text': 'orilliaopp',\n",
       "   'url': 'https://app.dataminr.com/app/core/corporate/search-popup.html#search/%7B%22history%22%3A%5B%7B%22displayTitle%22%3A%22orilliaopp%22%2C%22elements%22%3A%5B%7B%22topicName%22%3A%22orilliaopp%22%2C%22type%22%3A%22string%22%2C%22topicId%22%3A-1%2C%22equitySymbol%22%3A%22%22%7D%5D%2C%22target%22%3A%22searchinput%22%2C%22type%22%3A%22complex%22%2C%22isEquity%22%3Afalse%2C%22topicId%22%3A-1%2C%22text%22%3A%22%22%7D%5D%7D/location/%7B%22center%22%3A%7B%22lat%22%3A14.43468021529728%2C%22lng%22%3A-65.91796875%2C%22zoom%22%3A2%7D%2C%22zoom%22%3A2%2C%22extent%22%3A%7B%22north%22%3A73.42842364106818%2C%22east%22%3A48.1640625%2C%22south%22%3A-62.91523303947613%2C%22west%22%3A-179.6484375%7D%7D'}],\n",
       " 'relatedTermsQueryURL': 'https://app.dataminr.com/#search-popup/search/%7B%22history%22%3A%5B%7B%22displayTitle%22%3A%22orillia,orilliaopp%22%2C%22elements%22%3A%5B%7B%22topicName%22%3A%22orillia,orilliaopp%22%2C%22type%22%3A%22string%22%2C%22topicId%22%3A-1%2C%22equitySymbol%22%3A%22%22%7D%5D%2C%22target%22%3A%22searchinput%22%2C%22type%22%3A%22complex%22%2C%22isEquity%22%3Afalse%2C%22topicId%22%3A-1%2C%22text%22%3A%22%22%7D%5D%7D/location/%7B%22center%22%3A%7B%22lat%22%3A14.43468021529728%2C%22lng%22%3A-65.91796875%2C%22zoom%22%3A2%7D%2C%22zoom%22%3A2%2C%22extent%22%3A%7B%22north%22%3A73.42842364106818%2C%22east%22%3A48.1640625%2C%22south%22%3A-62.91523303947613%2C%22west%22%3A-179.6484375%7D%7D',\n",
       " 'userRecentImages': [],\n",
       " 'userTopHashtags': []}"
      ]
     },
     "execution_count": 11,
     "metadata": {},
     "output_type": "execute_result"
    }
   ],
   "source": [
    "#Enter a keyword\n",
    "keyword_query_phrase = 'Fire AND Mcdonalds'\n",
    "\n",
    "list_url = 'https://gateway.dataminr.com/alerts/2/get_alert?alertversion=14'\n",
    "payload = {'Authorization': 'dmauth {}'.format(token)}\n",
    "r_lists = requests.get(list_url, params={'query': keyword_query_phrase, 'pagesize': '100'}, headers=payload)\n",
    "if not r_lists.ok:\n",
    "    print(\"Nothing returned for the keyword query, {}\".format(keyword_query_phrase))\n",
    "Keyword_EventsList = json.loads(r_lists.text)\n",
    "print(\"There are {} items in our list. \\n\\nHere is the first result:\".format(len(Keyword_EventsList)))\n",
    "Keyword_EventsList[0]"
   ]
  },
  {
   "cell_type": "markdown",
   "metadata": {},
   "source": [
    "## Lets pull out the location information and create a dictionary to store data that will then be passed into a GIS object.  "
   ]
  },
  {
   "cell_type": "code",
   "execution_count": 12,
   "metadata": {},
   "outputs": [],
   "source": [
    "Event_Dict = dict()\n",
    "Event_list_issues = list()\n",
    "\n",
    "for item in EventsList:\n",
    "    try:\n",
    "        rec_id = item['alertId']\n",
    "        Event_Dict[rec_id] = dict()\n",
    "        Event_Dict[rec_id]['coordinates'] = item['eventLocation']['coordinates']\n",
    "        Event_Dict[rec_id]['place'] = item['eventLocation']['name']\n",
    "        Event_Dict[rec_id]['expanded_alert_url'] = item['expandAlertURL']\n",
    "        Event_Dict[rec_id]['Alert_ID'] = rec_id\n",
    "    except:\n",
    "        Event_list_issues.append(item)"
   ]
  },
  {
   "cell_type": "markdown",
   "metadata": {},
   "source": [
    "## Enter Credentials and authenticate login to ArcGIS Online Organization"
   ]
  },
  {
   "cell_type": "code",
   "execution_count": 13,
   "metadata": {},
   "outputs": [
    {
     "name": "stdout",
     "output_type": "stream",
     "text": [
      "Enter Password: ········\n",
      "Successfully logged in as: SDocherty_AFC\n"
     ]
    }
   ],
   "source": [
    "from arcgis.gis import GIS\n",
    "import getpass\n",
    "username = \"SDocherty_AFC\" #Seth's username\n",
    "#username = \"lwright_AFC\" # Lyle's Username\n",
    "password = getpass.getpass(\"Enter Password: \")\n",
    "gis = GIS(\"https://arcgisforcommer.maps.arcgis.com\", username, password)\n",
    "print(\"Successfully logged in as: \" + gis.properties.user.username)"
   ]
  },
  {
   "cell_type": "markdown",
   "metadata": {},
   "source": [
    "## Let's view this information in a map!"
   ]
  },
  {
   "cell_type": "code",
   "execution_count": 16,
   "metadata": {
    "scrolled": true
   },
   "outputs": [
    {
     "data": {
      "application/vnd.jupyter.widget-view+json": {
       "model_id": "77a3779d74064c52b3155670ffe8e25b",
       "version_major": 2,
       "version_minor": 0
      },
      "text/plain": [
       "MapView(layout=Layout(height='400px', width='100%'))"
      ]
     },
     "metadata": {},
     "output_type": "display_data"
    },
    {
     "data": {
      "text/html": [
       "<div class=\"map-static-img-preview-ed780ba8-4b83-4e03-8ce6-f8323c221cdb\"><img src=\"\"></img></div>"
      ],
      "text/plain": [
       "<IPython.core.display.HTML object>"
      ]
     },
     "metadata": {},
     "output_type": "display_data"
    }
   ],
   "source": [
    "sms = {\"color\": [255,0,0,255], \"size\": 5, \"type\": \"esriSMS\", \"style\": \"esriSMSCircle\"}\n",
    "map1 = gis.map()\n",
    "record_list = []\n",
    "for key, val in Event_Dict.items():\n",
    "    lat = val['coordinates'][0]\n",
    "    long = val['coordinates'][1]\n",
    "    content = val['expanded_alert_url']\n",
    "    title = val['Alert_ID']\n",
    "    \n",
    "    # Prep data for pandas dataframe\n",
    "    record_list.append([lat, long, title, content])\n",
    "    \n",
    "    #Let's draw the content real quick to see what it looks like\n",
    "    coords = [lat, long]\n",
    "    map1.draw(coords, symbol=sms)#, popup={'title':title, 'content':content})\n",
    "    \n",
    "map1 # You can click on the points to expose information about them."
   ]
  },
  {
   "cell_type": "markdown",
   "metadata": {},
   "source": [
    "## Let's try the alternative to adding data into the map by creating a feature collection\n",
    "\n",
    "### With this approach, we can create a layer to perform spatial analysis on."
   ]
  },
  {
   "cell_type": "code",
   "execution_count": 17,
   "metadata": {},
   "outputs": [
    {
     "data": {
      "application/vnd.jupyter.widget-view+json": {
       "model_id": "3c5cef5fdd4d44699e4c042112e54644",
       "version_major": 2,
       "version_minor": 0
      },
      "text/plain": [
       "MapView(layout=Layout(height='400px', width='100%'))"
      ]
     },
     "metadata": {},
     "output_type": "display_data"
    },
    {
     "data": {
      "text/html": [
       "<div class=\"map-static-img-preview-25d81fd4-f4dd-4f73-a111-f4e1283509f5\"><img src=\"\"></img></div>"
      ],
      "text/plain": [
       "<IPython.core.display.HTML object>"
      ]
     },
     "metadata": {},
     "output_type": "display_data"
    }
   ],
   "source": [
    "import pandas as pd\n",
    "df = pd.DataFrame.from_records(record_list)\n",
    "df.columns = ['lat', 'long', 'category', 'caption']\n",
    "incidents = gis.content.import_data(df)\n",
    "map2 = gis.map()\n",
    "map2.add_layer(incidents)\n",
    "map2"
   ]
  },
  {
   "cell_type": "markdown",
   "metadata": {},
   "source": [
    "## Let's publish this layer as a feature collection item in our GIS"
   ]
  },
  {
   "cell_type": "code",
   "execution_count": 18,
   "metadata": {},
   "outputs": [
    {
     "data": {
      "text/html": [
       "<div class=\"item_container\" style=\"height: auto; overflow: hidden; border: 1px solid #cfcfcf; border-radius: 2px; background: #f6fafa; line-height: 1.21429em; padding: 10px;\">\n",
       "                    <div class=\"item_left\" style=\"width: 210px; float: left;\">\n",
       "                       <a href='https://ArcGISforCommer.maps.arcgis.com/home/item.html?id=172d4c25aec74a3f921e9d79191893c4' target='_blank'>\n",
       "                        <img src='http://static.arcgis.com/images/desktopapp.png' class=\"itemThumbnail\">\n",
       "                       </a>\n",
       "                    </div>\n",
       "\n",
       "                    <div class=\"item_right\"     style=\"float: none; width: auto; overflow: hidden;\">\n",
       "                        <a href='https://ArcGISforCommer.maps.arcgis.com/home/item.html?id=172d4c25aec74a3f921e9d79191893c4' target='_blank'><b>Dataminr List Feed</b>\n",
       "                        </a>\n",
       "                        <br/><img src='https://ArcGISforCommer.maps.arcgis.com/home/js/jsapi/esri/css/images/item_type_icons/features16.png' style=\"vertical-align:middle;\">Feature Collection by SDocherty_AFC\n",
       "                        <br/>Last Modified: March 30, 2019\n",
       "                        <br/>0 comments, 0 views\n",
       "                    </div>\n",
       "                </div>\n",
       "                "
      ],
      "text/plain": [
       "<Item title:\"Dataminr List Feed\" type:Feature Collection owner:SDocherty_AFC>"
      ]
     },
     "execution_count": 18,
     "metadata": {},
     "output_type": "execute_result"
    }
   ],
   "source": [
    "incidents_item_properties = {'title': 'Dataminr List Feed',\n",
    "                        'description':'Demo - Collection of feeds from the {} list in Dataminr'.format(list_pick),\n",
    "                        'tags': 'arcgis python api, pandas, Dataminr, demo',\n",
    "                        'text': json.dumps({\"featureCollection\": {\"layers\": [dict(incidents.layer)]}}),\n",
    "                        'type':'Feature Collection'}\n",
    "incidents_item = gis.content.add(incidents_item_properties)\n",
    "incidents_item"
   ]
  },
  {
   "cell_type": "code",
   "execution_count": null,
   "metadata": {},
   "outputs": [],
   "source": []
  }
 ],
 "metadata": {
  "kernelspec": {
   "display_name": "Python 3",
   "language": "python",
   "name": "python3"
  },
  "language_info": {
   "codemirror_mode": {
    "name": "ipython",
    "version": 3
   },
   "file_extension": ".py",
   "mimetype": "text/x-python",
   "name": "python",
   "nbconvert_exporter": "python",
   "pygments_lexer": "ipython3",
   "version": "3.7.2"
  }
 },
 "nbformat": 4,
 "nbformat_minor": 2
}
