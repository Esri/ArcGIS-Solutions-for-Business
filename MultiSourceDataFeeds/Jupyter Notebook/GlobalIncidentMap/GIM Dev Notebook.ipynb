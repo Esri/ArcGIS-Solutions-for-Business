{
 "cells": [
  {
   "cell_type": "markdown",
   "metadata": {},
   "source": [
    "## Enter Credentials and authenticate login to ArcGIS Online Organization"
   ]
  },
  {
   "cell_type": "code",
   "execution_count": 1,
   "metadata": {},
   "outputs": [
    {
     "name": "stdout",
     "output_type": "stream",
     "text": [
      "Enter Password: ········\n",
      "Successfully logged in as: SDocherty_AFC\n"
     ]
    }
   ],
   "source": [
    "from arcgis.gis import GIS\n",
    "import getpass\n",
    "username = \"SDocherty_AFC\" #Seth's username\n",
    "#username = \"lwright_AFC\" # Lyle's Username\n",
    "password = getpass.getpass(\"Enter Password: \")\n",
    "gis = GIS(\"https://arcgisforcommer.maps.arcgis.com\", username, password)\n",
    "print(\"Successfully logged in as: \" + gis.properties.user.username)"
   ]
  },
  {
   "cell_type": "markdown",
   "metadata": {},
   "source": [
    "## Using the python package, feedparser, let's take an example incident feed and format it into a Feed Parser Dict object for easy manipulation of the dataset\n"
   ]
  },
  {
   "cell_type": "markdown",
   "metadata": {},
   "source": [
    "#### Check out the following link for more information on feedparser and GeoRSS\n",
    "https://sgillies.net/2012/03/06/feedparser-and-georssgml.html\n",
    "\n",
    "https://pythonhosted.org/feedparser/"
   ]
  },
  {
   "cell_type": "code",
   "execution_count": 2,
   "metadata": {
    "scrolled": false
   },
   "outputs": [
    {
     "name": "stdout",
     "output_type": "stream",
     "text": [
      "{'title': 'INDIA - Swine Flu Claims 7 Lives In Chhattisgarh', 'title_detail': {'type': 'text/plain', 'language': None, 'base': 'http://www.globalincidentmap.com/georss/?7Dt65RFaio90Q0FcHRtjgKwVuo3SpjQ05zN4yvwVQCt_*e447a', 'value': 'INDIA - Swine Flu Claims 7 Lives In Chhattisgarh'}, 'summary': 'Swine Flu - Confirmed / Possible Related Death - India,Chhattisgarh:<br><div>&nbsp;<br  />\\n<strong>[UNI] INDIA - Swine flu claims 7 lives in Chhattisgarh<br  />\\n<br type=\"_moz\"  />\\n</strong></div>\\n<div><strong>&ldquo;Claiming to have taken adequate steps for prevention of swine flu in Chhattisgarh, Health Minister TS Singhdeo ....&rdquo;<br  />\\n<br type=\"_moz\"  />\\n</strong></div>\\n<div><strong>Read the full article: <br  />\\n</strong><a href=\"http://www.uniindia.com/swine-flu-claims-7-lives-in-chhattisgarh-singhdeo/north/news/1508619.html\"><strong>http://www.uniindia.com/swine-flu-claims-7-lives-in-chhattisgarh-singhdeo/north/news/1508619.html</strong></a></div><p>This incident provided via the <a href=\"http://www.globalincidentmap.com/\">GlobalIncidentMap.com</a> incident monitoring system</p>', 'summary_detail': {'type': 'text/html', 'language': None, 'base': 'http://www.globalincidentmap.com/georss/?7Dt65RFaio90Q0FcHRtjgKwVuo3SpjQ05zN4yvwVQCt_*e447a', 'value': 'Swine Flu - Confirmed / Possible Related Death - India,Chhattisgarh:<br><div>&nbsp;<br  />\\n<strong>[UNI] INDIA - Swine flu claims 7 lives in Chhattisgarh<br  />\\n<br type=\"_moz\"  />\\n</strong></div>\\n<div><strong>&ldquo;Claiming to have taken adequate steps for prevention of swine flu in Chhattisgarh, Health Minister TS Singhdeo ....&rdquo;<br  />\\n<br type=\"_moz\"  />\\n</strong></div>\\n<div><strong>Read the full article: <br  />\\n</strong><a href=\"http://www.uniindia.com/swine-flu-claims-7-lives-in-chhattisgarh-singhdeo/north/news/1508619.html\"><strong>http://www.uniindia.com/swine-flu-claims-7-lives-in-chhattisgarh-singhdeo/north/news/1508619.html</strong></a></div><p>This incident provided via the <a href=\"http://www.globalincidentmap.com/\">GlobalIncidentMap.com</a> incident monitoring system</p>'}, 'links': [{'rel': 'alternate', 'type': 'text/html', 'href': 'http://outbreaks.globalincidentmap.com/eventdetail.php?ID=31103'}], 'link': 'http://outbreaks.globalincidentmap.com/eventdetail.php?ID=31103', 'published': 'Fri, 22 Feb 2019 23:36:00 CST', 'published_parsed': time.struct_time(tm_year=2019, tm_mon=2, tm_mday=23, tm_hour=5, tm_min=36, tm_sec=0, tm_wday=5, tm_yday=54, tm_isdst=0), 'tags': [{'term': 'Swine Flu - Confirmed / Possible Related Death', 'scheme': None, 'label': None}], 'id': 'http://www.uniindia.com/swine-flu-claims-7-lives-in-chhattisgarh-singhdeo/north/news/1508619.html', 'guidislink': False, 'geo_long': '81.866', 'geo_lat': '21.279', 'locationgranularity': '7'}\n"
     ]
    }
   ],
   "source": [
    "import feedparser\n",
    "\n",
    "# Demo Disease Outbreaks Map Feed GeoRSS feed from GIM\n",
    "feed = feedparser.parse(\"http://www.globalincidentmap.com/georss/?7Dt65RFaio90Q0FcHRtjgKwVuo3SpjQ05zN4yvwVQCt_*e447a\")\n",
    "\n",
    "# Print the first line from the feed\n",
    "print(feed.entries[0])"
   ]
  },
  {
   "cell_type": "code",
   "execution_count": 3,
   "metadata": {},
   "outputs": [
    {
     "name": "stdout",
     "output_type": "stream",
     "text": [
      "INDIA - Swine Flu Claims 7 Lives In Chhattisgarh\n"
     ]
    }
   ],
   "source": [
    "# Lets take a look at the title of the first incident:\n",
    "print(feed.entries[0][\"title\"])"
   ]
  },
  {
   "cell_type": "markdown",
   "metadata": {},
   "source": [
    "## What other fields do we have access to?"
   ]
  },
  {
   "cell_type": "code",
   "execution_count": 4,
   "metadata": {},
   "outputs": [
    {
     "data": {
      "text/plain": [
       "['title',\n",
       " 'title_detail',\n",
       " 'summary',\n",
       " 'summary_detail',\n",
       " 'links',\n",
       " 'link',\n",
       " 'published',\n",
       " 'published_parsed',\n",
       " 'tags',\n",
       " 'id',\n",
       " 'guidislink',\n",
       " 'geo_long',\n",
       " 'geo_lat',\n",
       " 'locationgranularity']"
      ]
     },
     "execution_count": 4,
     "metadata": {},
     "output_type": "execute_result"
    }
   ],
   "source": [
    "#print a list of dictionary keys\n",
    "[item for item in feed.entries[0].keys()]"
   ]
  },
  {
   "cell_type": "code",
   "execution_count": 5,
   "metadata": {},
   "outputs": [
    {
     "data": {
      "application/vnd.jupyter.widget-view+json": {
       "model_id": "e637ee50a3de4057bd7e567daec01d26",
       "version_major": 2,
       "version_minor": 0
      },
      "text/plain": [
       "MapView(layout=Layout(height='400px', width='100%'))"
      ]
     },
     "metadata": {},
     "output_type": "display_data"
    },
    {
     "data": {
      "text/html": [
       "<div class=\"map-static-img-preview-3d2da893-d8a2-478b-989d-6ff6b1c3d2a7\"><img src=\"\"></img></div>"
      ],
      "text/plain": [
       "<IPython.core.display.HTML object>"
      ]
     },
     "metadata": {},
     "output_type": "display_data"
    }
   ],
   "source": [
    "sms = {\"color\": [255,0,0,255], \"size\": 5, \"type\": \"esriSMS\", \"style\": \"esriSMSCircle\"}\n",
    "map1 = gis.map()\n",
    "record_list = []\n",
    "for item in range (len(feed.entries)):\n",
    "    lat = feed.entries[item][\"geo_lat\"]\n",
    "    long = feed.entries[item][\"geo_long\"]\n",
    "    title = feed.entries[item][\"title\"]\n",
    "    content = feed.entries[item][\"summary\"]\n",
    "    \n",
    "    # Prep data for pandas dataframe\n",
    "    record_list.append([lat, long, title, content])\n",
    "    \n",
    "    #Let's draw the content real quick to see what it looks like\n",
    "    coords = [feed.entries[item][\"geo_lat\"], feed.entries[item][\"geo_long\"]]\n",
    "    map1.draw(coords, symbol=sms, popup={'title':title, 'content':content})\n",
    "map1 # You can click on the points to expose information about them."
   ]
  },
  {
   "cell_type": "markdown",
   "metadata": {},
   "source": [
    "## How many records are showing up on the map?"
   ]
  },
  {
   "cell_type": "code",
   "execution_count": 6,
   "metadata": {},
   "outputs": [
    {
     "data": {
      "text/plain": [
       "100"
      ]
     },
     "execution_count": 6,
     "metadata": {},
     "output_type": "execute_result"
    }
   ],
   "source": [
    "len(record_list)"
   ]
  },
  {
   "cell_type": "markdown",
   "metadata": {},
   "source": [
    "## Let's try the alternative to adding data into the map by creating a feature collection\n",
    "\n",
    "### With this approach, we can perform spatial analysis with this layer"
   ]
  },
  {
   "cell_type": "code",
   "execution_count": 7,
   "metadata": {},
   "outputs": [
    {
     "data": {
      "application/vnd.jupyter.widget-view+json": {
       "model_id": "0a66b39eff5341d89e2991379a9b299d",
       "version_major": 2,
       "version_minor": 0
      },
      "text/plain": [
       "MapView(layout=Layout(height='400px', width='100%'))"
      ]
     },
     "metadata": {},
     "output_type": "display_data"
    },
    {
     "data": {
      "text/html": [
       "<div class=\"map-static-img-preview-e14510b3-ee0a-48c9-89fc-1b6650940104\"><img src=\"\"></img></div>"
      ],
      "text/plain": [
       "<IPython.core.display.HTML object>"
      ]
     },
     "metadata": {},
     "output_type": "display_data"
    }
   ],
   "source": [
    "import pandas as pd\n",
    "df = pd.DataFrame.from_records(record_list)\n",
    "df.columns = ['lat', 'long', 'title', 'summary']\n",
    "incidents = gis.content.import_data(df)\n",
    "map2 = gis.map()\n",
    "map2.add_layer(incidents)\n",
    "map2"
   ]
  },
  {
   "cell_type": "markdown",
   "metadata": {},
   "source": [
    "###### Let us publish this layer as a feature collection item in our GIS"
   ]
  },
  {
   "cell_type": "code",
   "execution_count": 8,
   "metadata": {},
   "outputs": [
    {
     "data": {
      "text/html": [
       "<div class=\"item_container\" style=\"height: auto; overflow: hidden; border: 1px solid #cfcfcf; border-radius: 2px; background: #f6fafa; line-height: 1.21429em; padding: 10px;\">\n",
       "                    <div class=\"item_left\" style=\"width: 210px; float: left;\">\n",
       "                       <a href='https://ArcGISforCommer.maps.arcgis.com/home/item.html?id=bfb024e08fcb4444aa03608546563d0f' target='_blank'>\n",
       "                        <img src='http://static.arcgis.com/images/desktopapp.png' class=\"itemThumbnail\">\n",
       "                       </a>\n",
       "                    </div>\n",
       "\n",
       "                    <div class=\"item_right\"     style=\"float: none; width: auto; overflow: hidden;\">\n",
       "                        <a href='https://ArcGISforCommer.maps.arcgis.com/home/item.html?id=bfb024e08fcb4444aa03608546563d0f' target='_blank'><b>Incidents</b>\n",
       "                        </a>\n",
       "                        <br/><img src='https://ArcGISforCommer.maps.arcgis.com/home/js/jsapi/esri/css/images/item_type_icons/features16.png' style=\"vertical-align:middle;\">Feature Collection by SDocherty_AFC\n",
       "                        <br/>Last Modified: February 22, 2019\n",
       "                        <br/>0 comments, 0 views\n",
       "                    </div>\n",
       "                </div>\n",
       "                "
      ],
      "text/plain": [
       "<Item title:\"Incidents\" type:Feature Collection owner:SDocherty_AFC>"
      ]
     },
     "execution_count": 8,
     "metadata": {},
     "output_type": "execute_result"
    }
   ],
   "source": [
    "import json\n",
    "incidents_item_properties = {'title': 'Incidents',\n",
    "                        'description':'Demo Disease Outbreaks Map Feed GeoRSS feed from GIM',\n",
    "                        'tags': 'arcgis python api, pandas, GIM',\n",
    "                        'text': json.dumps({\"featureCollection\": {\"layers\": [dict(incidents.layer)]}}),\n",
    "                        'type':'Feature Collection'}\n",
    "incidents_item = gis.content.add(incidents_item_properties)\n",
    "incidents_item"
   ]
  },
  {
   "cell_type": "code",
   "execution_count": null,
   "metadata": {},
   "outputs": [],
   "source": []
  }
 ],
 "metadata": {
  "kernelspec": {
   "display_name": "Python 3",
   "language": "python",
   "name": "python3"
  },
  "language_info": {
   "codemirror_mode": {
    "name": "ipython",
    "version": 3
   },
   "file_extension": ".py",
   "mimetype": "text/x-python",
   "name": "python",
   "nbconvert_exporter": "python",
   "pygments_lexer": "ipython3",
   "version": "3.7.2"
  }
 },
 "nbformat": 4,
 "nbformat_minor": 2
}
