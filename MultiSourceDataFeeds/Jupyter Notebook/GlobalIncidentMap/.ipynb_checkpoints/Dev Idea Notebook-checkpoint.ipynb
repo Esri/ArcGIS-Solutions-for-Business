{
 "cells": [
  {
   "cell_type": "markdown",
   "metadata": {},
   "source": [
    "## Enter Credentials and authenticate login to ArcGIS Online Organization"
   ]
  },
  {
   "cell_type": "code",
   "execution_count": null,
   "metadata": {},
   "outputs": [],
   "source": [
    "from arcgis.gis import GIS\n",
    "import getpass\n",
    "username = \"SDocherty_AFC\" #Seth's username\n",
    "#username = \"lwright_AFC\" # Lyle's Username\n",
    "password = getpass.getpass(\"Enter Password: \")\n",
    "gis = GIS(\"https://arcgisforcommer.maps.arcgis.com\", username, password)\n",
    "print(\"Successfully logged in as: \" + gis.properties.user.username)"
   ]
  },
  {
   "cell_type": "markdown",
   "metadata": {},
   "source": [
    "## Using the python package, feedparser, let's take an example incident feed and format it into a Feed Parser Dict object for easy manipulation of the dataset\n"
   ]
  },
  {
   "cell_type": "markdown",
   "metadata": {},
   "source": [
    "#### Check out the following link for more information on feedparser and GeoRSS\n",
    "https://sgillies.net/2012/03/06/feedparser-and-georssgml.html\n",
    "\n",
    "https://pythonhosted.org/feedparser/"
   ]
  },
  {
   "cell_type": "code",
   "execution_count": null,
   "metadata": {
    "scrolled": false
   },
   "outputs": [],
   "source": [
    "import feedparser\n",
    "\n",
    "# Demo Disease Outbreaks Map Feed GeoRSS feed from GIM\n",
    "feed = feedparser.parse(\"http://www.globalincidentmap.com/georss/?7Dt65RFaio90Q0FcHRtjgKwVuo3SpjQ05zN4yvwVQCt_*e447a\")\n",
    "\n",
    "# Print the first line from the feed\n",
    "print(feed.entries[0])"
   ]
  },
  {
   "cell_type": "code",
   "execution_count": null,
   "metadata": {},
   "outputs": [],
   "source": [
    "# Lets take a look at the title of the first incident:\n",
    "print(feed.entries[0][\"title\"])"
   ]
  },
  {
   "cell_type": "markdown",
   "metadata": {},
   "source": [
    "## What other fields do we have access to?"
   ]
  },
  {
   "cell_type": "code",
   "execution_count": null,
   "metadata": {},
   "outputs": [],
   "source": [
    "#print a list of dictionary keys\n",
    "[item for item in feed.entries[0].keys()]"
   ]
  },
  {
   "cell_type": "code",
   "execution_count": null,
   "metadata": {},
   "outputs": [],
   "source": [
    "sms = {\"color\": [255,0,0,255], \"size\": 5, \"type\": \"esriSMS\", \"style\": \"esriSMSCircle\"}\n",
    "map1 = gis.map()\n",
    "record_list = []\n",
    "for item in range (len(feed.entries)):\n",
    "    lat = feed.entries[item][\"geo_lat\"]\n",
    "    long = feed.entries[item][\"geo_long\"]\n",
    "    title = feed.entries[item][\"title\"]\n",
    "    content = feed.entries[item][\"summary\"]\n",
    "    \n",
    "    # Prep data for pandas dataframe\n",
    "    record_list.append([lat, long, title, content])\n",
    "    \n",
    "    #Let's draw the content real quick to see what it looks like\n",
    "    coords = [feed.entries[item][\"geo_lat\"], feed.entries[item][\"geo_long\"]]\n",
    "    map1.draw(coords, symbol=sms, popup={'title':title, 'content':content})\n",
    "map1 # You can click on the points to expose information about them."
   ]
  },
  {
   "cell_type": "markdown",
   "metadata": {},
   "source": [
    "## How many records are showing up on the map?"
   ]
  },
  {
   "cell_type": "code",
   "execution_count": null,
   "metadata": {},
   "outputs": [],
   "source": [
    "len(record_list)"
   ]
  },
  {
   "cell_type": "markdown",
   "metadata": {},
   "source": [
    "## Let's try the alternative to adding data into the map by creating a feature collection\n",
    "\n",
    "### With this approach, we can perform spatial analysis with this layer"
   ]
  },
  {
   "cell_type": "code",
   "execution_count": null,
   "metadata": {},
   "outputs": [],
   "source": [
    "import pandas as pd\n",
    "df = pd.DataFrame.from_records(record_list)\n",
    "df.columns = ['lat', 'long', 'title', 'summary']\n",
    "incidents = gis.content.import_data(df)\n",
    "map2 = gis.map()\n",
    "map2.add_layer(incidents)\n",
    "map2"
   ]
  },
  {
   "cell_type": "markdown",
   "metadata": {},
   "source": [
    "###### Let us publish this layer as a feature collection item in our GIS"
   ]
  },
  {
   "cell_type": "code",
   "execution_count": null,
   "metadata": {},
   "outputs": [],
   "source": [
    "import json\n",
    "incidents_item_properties = {'title': 'Incidents',\n",
    "                        'description':'Demo Disease Outbreaks Map Feed GeoRSS feed from GIM',\n",
    "                        'tags': 'arcgis python api, pandas, GIM',\n",
    "                        'text': json.dumps({\"featureCollection\": {\"layers\": [dict(incidents.layer)]}}),\n",
    "                        'type':'Feature Collection'}\n",
    "incidents_item = gis.content.add(incidents_item_properties)\n",
    "incidents_item"
   ]
  },
  {
   "cell_type": "code",
   "execution_count": null,
   "metadata": {},
   "outputs": [],
   "source": []
  }
 ],
 "metadata": {
  "kernelspec": {
   "display_name": "Python 3",
   "language": "python",
   "name": "python3"
  },
  "language_info": {
   "codemirror_mode": {
    "name": "ipython",
    "version": 3
   },
   "file_extension": ".py",
   "mimetype": "text/x-python",
   "name": "python",
   "nbconvert_exporter": "python",
   "pygments_lexer": "ipython3",
   "version": "3.7.2"
  }
 },
 "nbformat": 4,
 "nbformat_minor": 2
}
